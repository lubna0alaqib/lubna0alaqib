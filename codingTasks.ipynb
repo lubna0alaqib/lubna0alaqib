{
 "cells": [
  {
   "cell_type": "code",
   "execution_count": 1,
   "id": "cc30ae0e-3905-4539-ac3e-9737e8ea322b",
   "metadata": {},
   "outputs": [],
   "source": [
    "def is_palindrome(string):\n",
    "    # Remove non-alphanumeric characters and convert to lowercase\n",
    "    cleaned_string = ''.join(char for char in string.lower() if char.isalnum())\n",
    "    \n",
    "    # Check if the cleaned string is equal to its reverse\n",
    "    return cleaned_string == cleaned_string[::-1]\n"
   ]
  },
  {
   "cell_type": "code",
   "execution_count": 10,
   "id": "f0d00f3c-99bc-4719-a00f-bab4738c6a2f",
   "metadata": {},
   "outputs": [
    {
     "name": "stdin",
     "output_type": "stream",
     "text": [
      "Enter a string:  racecar\n"
     ]
    },
    {
     "name": "stdout",
     "output_type": "stream",
     "text": [
      "racecar is a palindrome!\n"
     ]
    }
   ],
   "source": [
    "# Get user input\n",
    "user_input = input(\"Enter a string: \")\n",
    "\n",
    "# Check if the input is a palindrome\n",
    "if is_palindrome(user_input):\n",
    "    print(f\"{user_input} is a palindrome!\")\n",
    "else:\n",
    "    print(f\"{user_input} is not a palindrome.\")"
   ]
  },
  {
   "cell_type": "code",
   "execution_count": 12,
   "id": "1c79eab9-4667-4cd9-bb66-d7412bd1a1ef",
   "metadata": {},
   "outputs": [
    {
     "name": "stdin",
     "output_type": "stream",
     "text": [
      "Enter a string:  hello world\n"
     ]
    },
    {
     "name": "stdout",
     "output_type": "stream",
     "text": [
      "hello world is not a palindrome.\n"
     ]
    }
   ],
   "source": [
    "# Get user input\n",
    "user_input = input(\"Enter a string: \")\n",
    "\n",
    "# Check if the input is a palindrome\n",
    "if is_palindrome(user_input):\n",
    "    print(f\"{user_input} is a palindrome!\")\n",
    "else:\n",
    "    print(f\"{user_input} is not a palindrome.\")"
   ]
  },
  {
   "cell_type": "markdown",
   "id": "bb07f2ae-7f5e-4b03-886d-378ddd0ec80e",
   "metadata": {},
   "source": [
    "# Palindrome Checker\n",
    "\n",
    "## Description\n",
    "A palindrome is a word, phrase, number, or other sequences of characters that read the same backward as forward. This coding task involves creating a program that checks if a given string is a palindrome or not. Learning to solve this problem will help you understand string manipulation, looping, and conditional statements, which are fundamental concepts in programming.\n",
    "\n",
    "## Table of Contents\n",
    "1. [Description](#description)\n",
    "2. [Installation](#installation)\n",
    "3. [Usage](#usage)\n",
    "4. [Credits](#credits)\n",
    "\n",
    "## Installation\n",
    "This program is written in Python, and you'll need to have Python installed on your machine to run it. You can download Python from the official website: https://www.python.org/downloads/\n",
    "\n",
    "## Usage\n",
    "1. Open the Jupyter Notebook file containing the code.\n",
    "2. Run the code cell containing the `is_palindrome` function definition.\n",
    "3. Run the code cell that prompts for user input and checks if the input is a palindrome.\n",
    "4. Enter a string when prompted in the output area of the notebook.\n",
    "5. The program will output whether the string is a palindrome or not.\n",
    "\n",
    "Example output:\n",
    "Enter a string: racecar racecar is a palindrome!\n",
    "\n",
    "Enter a string: hello world hello world is not a palindrome.\n",
    "\n"
   ]
  },
  {
   "cell_type": "markdown",
   "id": "27ed0d30-7f57-47e7-b412-12c411d18b31",
   "metadata": {},
   "source": [
    "## Credits\n",
    "This coding task and the provided solution were created by Lubna."
   ]
  },
  {
   "cell_type": "code",
   "execution_count": null,
   "id": "123b0998-2818-428e-ac63-8e3b32b95b7a",
   "metadata": {},
   "outputs": [],
   "source": []
  }
 ],
 "metadata": {
  "kernelspec": {
   "display_name": "Python 3 (ipykernel)",
   "language": "python",
   "name": "python3"
  },
  "language_info": {
   "codemirror_mode": {
    "name": "ipython",
    "version": 3
   },
   "file_extension": ".py",
   "mimetype": "text/x-python",
   "name": "python",
   "nbconvert_exporter": "python",
   "pygments_lexer": "ipython3",
   "version": "3.11.7"
  }
 },
 "nbformat": 4,
 "nbformat_minor": 5
}
