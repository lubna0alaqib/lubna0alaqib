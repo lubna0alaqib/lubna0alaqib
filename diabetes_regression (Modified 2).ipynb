{
 "cells": [
  {
   "cell_type": "code",
   "execution_count": 1,
   "id": "9fde0112-c0c5-4d11-a78c-fc97b6e4250e",
   "metadata": {},
   "outputs": [
    {
     "name": "stdout",
     "output_type": "stream",
     "text": [
      "Index(['Pregnancies', 'Glucose', 'BloodPressure', 'SkinThickness', 'Insulin',\n",
      "       'BMI', 'DiabetesPedigreeFunction', 'Age', 'Outcome'],\n",
      "      dtype='object')\n"
     ]
    }
   ],
   "source": [
    "import pandas as pd\n",
    "\n",
    "data = pd.read_csv('diabetes_updated (2).csv')\n",
    "print(data.columns)\n"
   ]
  },
  {
   "cell_type": "code",
   "execution_count": 9,
   "id": "27f91295-605f-487b-b9d2-8847fab4726f",
   "metadata": {},
   "outputs": [
    {
     "name": "stdout",
     "output_type": "stream",
     "text": [
      "Accuracy: 0.7532467532467533\n",
      "Classification Report:\n",
      "              precision    recall  f1-score   support\n",
      "\n",
      "           0       0.81      0.80      0.81        99\n",
      "           1       0.65      0.67      0.66        55\n",
      "\n",
      "    accuracy                           0.75       154\n",
      "   macro avg       0.73      0.74      0.73       154\n",
      "weighted avg       0.76      0.75      0.75       154\n",
      "\n"
     ]
    }
   ],
   "source": [
    "import pandas as pd\n",
    "from sklearn.model_selection import train_test_split\n",
    "from sklearn.linear_model import LogisticRegression\n",
    "from sklearn.metrics import accuracy_score, classification_report\n",
    "from sklearn.preprocessing import StandardScaler\n",
    "\n",
    "# Load the dataset using relative path\n",
    "data = pd.read_csv('diabetes_updated (2).csv')\n",
    "\n",
    "# Define features and target\n",
    "# 'Outcome' is the target variable, and the rest are features\n",
    "X = data.drop('Outcome', axis=1)\n",
    "y = data['Outcome']\n",
    "\n",
    "# Split data into train and test sets\n",
    "# Test size is 20% of the data, and random_state ensures reproducibility\n",
    "X_train, X_test, y_train, y_test = train_test_split(X, y, test_size=0.2, random_state=42)\n",
    "\n",
    "# Scale the data to improve convergence\n",
    "scaler = StandardScaler()\n",
    "X_train_scaled = scaler.fit_transform(X_train)\n",
    "X_test_scaled = scaler.transform(X_test)\n",
    "\n",
    "# Create and train the logistic regression model\n",
    "# Increase max_iter to allow more iterations for convergence\n",
    "model = LogisticRegression(max_iter=1000)\n",
    "model.fit(X_train_scaled, y_train)\n",
    "\n",
    "# Make predictions on test set\n",
    "y_pred = model.predict(X_test_scaled)\n",
    "\n",
    "# Calculate accuracy\n",
    "accuracy = accuracy_score(y_test, y_pred)\n",
    "print(f'Accuracy: {accuracy}')\n",
    "\n",
    "# Print classification report\n",
    "print(\"Classification Report:\")\n",
    "print(classification_report(y_test, y_pred))\n"
   ]
  },
  {
   "cell_type": "markdown",
   "id": "6b7867ad-80d7-491e-abde-11e21340b611",
   "metadata": {},
   "source": [
    "Notes:\n",
    "\n",
    "The code splits the data into training and test sets, with 20% of the data used for testing.\n",
    "The features are scaled using StandardScaler to improve convergence.\n",
    "The logistic regression model is created with an increased maximum number of iterations (max_iter=1000) to allow for convergence.\n",
    "The model is trained on the scaled training data.\n",
    "Predictions are made on the scaled test data.\n",
    "The accuracy score represents the overall percentage of correct predictions made by the model.\n",
    "The classification report provides more detailed metrics for each class (0 for non-diabetic and 1 for diabetic):\n",
    "Precision: The proportion of correct positive predictions.\n",
    "Recall: The proportion of actual positives that are correctly identified.\n",
    "F1-score: The harmonic mean of precision and recall.\n",
    "Support: The number of instances in each class.\n",
    "Note: Since this is a classification problem, the R-squared metric is not applicable. R-squared is typically used for regression problems to measure the model's goodness-of-fit. For classification problems, metrics like accuracy, precision, recall, and F1-score are more relevant."
   ]
  }
 ],
 "metadata": {
  "kernelspec": {
   "display_name": "Python 3 (ipykernel)",
   "language": "python",
   "name": "python3"
  },
  "language_info": {
   "codemirror_mode": {
    "name": "ipython",
    "version": 3
   },
   "file_extension": ".py",
   "mimetype": "text/x-python",
   "name": "python",
   "nbconvert_exporter": "python",
   "pygments_lexer": "ipython3",
   "version": "3.11.7"
  }
 },
 "nbformat": 4,
 "nbformat_minor": 5
}
